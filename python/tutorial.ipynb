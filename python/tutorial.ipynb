{
 "cells": [
  {
   "cell_type": "code",
   "execution_count": 1,
   "metadata": {},
   "outputs": [],
   "source": [
    "import numpy as np\n",
    "import pandas as pd\n",
    "from astropy.io import fits\n",
    "from order_variables import order_variables\n",
    "from nir_rv import NIR_RV\n",
    "import matplotlib.pyplot as plt\n",
    "%matplotlib inline"
   ]
  },
  {
   "cell_type": "code",
   "execution_count": 2,
   "metadata": {},
   "outputs": [],
   "source": [
    "# load telluric transmission spectrum\n",
    "with fits.open('spec/atrans.fits') as hdul:\n",
    "    atrans = hdul[0].data"
   ]
  },
  {
   "cell_type": "code",
   "execution_count": 3,
   "metadata": {},
   "outputs": [],
   "source": [
    "# load standard \n",
    "wlcal = 1\n",
    "atrest = True\n",
    "stdrv = 18.2\n",
    "file_tc ='spec/J0727+0513_rest.fits'\n",
    "with fits.open(file_tc) as hdul:\n",
    "    mystd = hdul[0].data\n",
    "    shdr = hdul[0].header\n",
    "mystd_tc = mystd"
   ]
  },
  {
   "cell_type": "markdown",
   "metadata": {},
   "source": [
    "We'll test the code on a spectrum of the star TOI-1696 (data published here: https://ui.adsabs.harvard.edu/abs/2022AJ....163..298M/abstract)."
   ]
  },
  {
   "cell_type": "code",
   "execution_count": 4,
   "metadata": {},
   "outputs": [
    {
     "name": "stderr",
     "output_type": "stream",
     "text": [
      "WARNING: The following header keyword is invalid or follows an unrecognized non-standard convention:\n",
      " ############################## Xspextool History ############################## [astropy.io.fits.card]\n",
      "WARNING: The following header keyword is invalid or follows an unrecognized non-standard convention:\n",
      " ############################## Xcombspec History ############################## [astropy.io.fits.card]\n",
      "WARNING: The following header keyword is invalid or follows an unrecognized non-standard convention:\n",
      " ############################### Xtellcor History ############################## [astropy.io.fits.card]\n",
      "WARNING: The following header keyword is invalid or follows an unrecognized non-standard convention:\n",
      " ############################# Xmergeorders History ############################ [astropy.io.fits.card]\n"
     ]
    }
   ],
   "source": [
    "# load non-telluric-corrected spectrum of target\n",
    "file = \"combspec_T470381900.fits\"\n",
    "with fits.open(file) as hdul:\n",
    "    mydata = hdul[0].data\n",
    "    hdr = hdul[0].header\n",
    "    \n",
    "# load telluric-corrected spectrum of target\n",
    "file_tc = \"tellcor_T470381900.fits\"\n",
    "with fits.open(file_tc) as hdul:\n",
    "    mydata_tc = hdul[0].data\n",
    "    \n",
    "# load telluric-corrected, order-merged spectrum of target\n",
    "file_merged = \"merged_T470381900.fits\"\n",
    "with fits.open(file_merged) as hdul:\n",
    "    merged_data = hdul[0].data"
   ]
  },
  {
   "cell_type": "code",
   "execution_count": 5,
   "metadata": {},
   "outputs": [],
   "source": [
    "mydata_tc[:,0,:] = mydata[:,0,:]"
   ]
  },
  {
   "cell_type": "code",
   "execution_count": 6,
   "metadata": {},
   "outputs": [
    {
     "name": "stderr",
     "output_type": "stream",
     "text": [
      "/Users/stevengiacalone/Documents/research/mstars/tellrv/ern_rv.py:131: VisibleDeprecationWarning: Creating an ndarray from ragged nested sequences (which is a list-or-tuple of lists-or-tuples-or ndarrays with different lengths or shapes) is deprecated. If you meant to do this, you must specify 'dtype=object' when creating the ndarray.\n",
      "  bin_idxs = np.array([np.argwhere((idxs > bin_edges[i]) & (idxs < bin_edges[i+1]))[:,0] for i in range(len(bin_edges)-1)])\n"
     ]
    },
    {
     "name": "stdout",
     "output_type": "stream",
     "text": [
      "order = 0\n",
      "-5.4605598771922 -2.891476756292292 -2.891476756292292 -3.3854943213671247e-09\n",
      "order = 1\n",
      "0.009239982883129105 2.5783231037830374 2.5783231037830374 5.6044172748483426e-05\n",
      "order = 2\n",
      "0.11628309622483268 2.685366217124741 2.685366217124741 3.5837710012109994e-05\n"
     ]
    }
   ],
   "source": [
    "# calculate the shift for the J, H, and K bands independently\n",
    "RVs = np.zeros(3)\n",
    "for order in range(3):\n",
    "    # get pertinant variables for SpeX\n",
    "    wrange, trange, pixscale, plorder = order_variables(hdr, order, instrument=\"spex\")\n",
    "    # calculate the RV\n",
    "    myrv, torest, x2, mshft = NIR_RV(mydata_tc[order], hdr, mydata[order],\n",
    "                              mystd_tc[order], shdr, mystd[order],\n",
    "                              wlcal=wlcal, atrest=atrest, stdrv=stdrv, # already wavelength calibrated?\n",
    "                              atrans=atrans,\n",
    "                              pixscale=pixscale, plorder=plorder,\n",
    "                              spixscale=pixscale, s_plorder=plorder,  # standard is from same set-up\n",
    "                              wrange=wrange, trange=trange,\n",
    "                              quiet=1)\n",
    "    print(\"order =\", order)\n",
    "    print(myrv, torest, x2, mshft)\n",
    "    if (order < 3):\n",
    "        RVs[order] = myrv"
   ]
  },
  {
   "cell_type": "code",
   "execution_count": 7,
   "metadata": {},
   "outputs": [
    {
     "data": {
      "text/plain": [
       "0.009239982883129105"
      ]
     },
     "execution_count": 7,
     "metadata": {},
     "output_type": "execute_result"
    }
   ],
   "source": [
    "# take the median of the three \n",
    "this_RV = np.median(RVs) # our RV\n",
    "this_RV"
   ]
  },
  {
   "cell_type": "code",
   "execution_count": 8,
   "metadata": {},
   "outputs": [
    {
     "data": {
      "text/plain": [
       "array([5.01150878e-05, 5.01140541e-05, 5.01130208e-05, ...,\n",
       "       3.39803631e-05, 3.39772854e-05, 3.39742057e-05])"
      ]
     },
     "execution_count": 8,
     "metadata": {},
     "output_type": "execute_result"
    }
   ],
   "source": [
    "# in this case, order 1 provides the values we need to shift the spectrum to the rest frame\n",
    "torest, mshft = 2.5783231037830374, 5.6044172748483426e-05\n",
    "shft = mshft - (mshft+merged_data[0])*torest/(3.e5)\n",
    "shft"
   ]
  },
  {
   "cell_type": "code",
   "execution_count": 9,
   "metadata": {},
   "outputs": [
    {
     "data": {
      "text/plain": [
       "array([0.68987094, 0.68999122, 0.69011144, ..., 2.56720579, 2.56756389,\n",
       "       2.56792223])"
      ]
     },
     "execution_count": 9,
     "metadata": {},
     "output_type": "execute_result"
    }
   ],
   "source": [
    "wav_shifted = merged_data[0] + shft\n",
    "wav_shifted"
   ]
  },
  {
   "cell_type": "code",
   "execution_count": 10,
   "metadata": {},
   "outputs": [],
   "source": [
    "# now save the data to a new file\n",
    "\n",
    "# df = pd.DataFrame({'wavelength': wav_shifted, 'flux': merged_data[1], 'flux_err': merged_data[2]})\n",
    "# df.to_csv('TOI1696_spex_restspectrum.csv', index=False)"
   ]
  }
 ],
 "metadata": {
  "kernelspec": {
   "display_name": "Python 3 (ipykernel)",
   "language": "python",
   "name": "python3"
  },
  "language_info": {
   "codemirror_mode": {
    "name": "ipython",
    "version": 3
   },
   "file_extension": ".py",
   "mimetype": "text/x-python",
   "name": "python",
   "nbconvert_exporter": "python",
   "pygments_lexer": "ipython3",
   "version": "3.8.11"
  }
 },
 "nbformat": 4,
 "nbformat_minor": 4
}
